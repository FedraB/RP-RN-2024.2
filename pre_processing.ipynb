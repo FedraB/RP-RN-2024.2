{
 "cells": [
  {
   "cell_type": "markdown",
   "metadata": {
    "id": "3deBvwD6yBDp"
   },
   "source": [
    "# Fruits-360 dataset\n",
    "\n",
    "A base de dados aqui utilizada já vem padronizada e tratada, portanto seguimos com o pré-processamento a ser realizado abaixo."
   ]
  },
  {
   "cell_type": "markdown",
   "metadata": {
    "id": "KIdAlflQyq72"
   },
   "source": [
    "## Carregamento e Vizualização"
   ]
  },
  {
   "cell_type": "code",
   "execution_count": 14,
   "metadata": {
    "colab": {
     "base_uri": "https://localhost:8080/"
    },
    "collapsed": true,
    "executionInfo": {
     "elapsed": 4824,
     "status": "ok",
     "timestamp": 1740487929427,
     "user": {
      "displayName": "JOAO CORDEIRO",
      "userId": "15883881216218269427"
     },
     "user_tz": 180
    },
    "id": "0cDsRxJUCcVw",
    "outputId": "1754044d-03f3-4257-efb2-8d7ece67e556"
   },
   "outputs": [
    {
     "name": "stdout",
     "output_type": "stream",
     "text": [
      "Requirement already satisfied: numpy in /usr/local/lib/python3.11/dist-packages (from -r requirements.txt (line 1)) (1.26.4)\n",
      "Requirement already satisfied: tensorflow in /usr/local/lib/python3.11/dist-packages (from -r requirements.txt (line 2)) (2.18.0)\n",
      "Requirement already satisfied: opencv-python-headless in /usr/local/lib/python3.11/dist-packages (from -r requirements.txt (line 3)) (4.11.0.86)\n",
      "Requirement already satisfied: Pillow in /usr/local/lib/python3.11/dist-packages (from -r requirements.txt (line 4)) (11.1.0)\n",
      "Requirement already satisfied: scikit-learn in /usr/local/lib/python3.11/dist-packages (from -r requirements.txt (line 5)) (1.6.1)\n",
      "Requirement already satisfied: seaborn in /usr/local/lib/python3.11/dist-packages (from -r requirements.txt (line 6)) (0.13.2)\n",
      "Requirement already satisfied: scipy in /usr/local/lib/python3.11/dist-packages (from -r requirements.txt (line 7)) (1.13.1)\n",
      "Requirement already satisfied: matplotlib in /usr/local/lib/python3.11/dist-packages (from -r requirements.txt (line 8)) (3.10.0)\n",
      "Requirement already satisfied: scikit-image in /usr/local/lib/python3.11/dist-packages (from -r requirements.txt (line 9)) (0.25.2)\n",
      "Requirement already satisfied: numba in /usr/local/lib/python3.11/dist-packages (from -r requirements.txt (line 10)) (0.61.0)\n",
      "Requirement already satisfied: umap-learn in /usr/local/lib/python3.11/dist-packages (from -r requirements.txt (line 11)) (0.5.7)\n",
      "Requirement already satisfied: keras in /usr/local/lib/python3.11/dist-packages (from -r requirements.txt (line 12)) (3.8.0)\n",
      "Requirement already satisfied: absl-py>=1.0.0 in /usr/local/lib/python3.11/dist-packages (from tensorflow->-r requirements.txt (line 2)) (1.4.0)\n",
      "Requirement already satisfied: astunparse>=1.6.0 in /usr/local/lib/python3.11/dist-packages (from tensorflow->-r requirements.txt (line 2)) (1.6.3)\n",
      "Requirement already satisfied: flatbuffers>=24.3.25 in /usr/local/lib/python3.11/dist-packages (from tensorflow->-r requirements.txt (line 2)) (25.2.10)\n",
      "Requirement already satisfied: gast!=0.5.0,!=0.5.1,!=0.5.2,>=0.2.1 in /usr/local/lib/python3.11/dist-packages (from tensorflow->-r requirements.txt (line 2)) (0.6.0)\n",
      "Requirement already satisfied: google-pasta>=0.1.1 in /usr/local/lib/python3.11/dist-packages (from tensorflow->-r requirements.txt (line 2)) (0.2.0)\n",
      "Requirement already satisfied: libclang>=13.0.0 in /usr/local/lib/python3.11/dist-packages (from tensorflow->-r requirements.txt (line 2)) (18.1.1)\n",
      "Requirement already satisfied: opt-einsum>=2.3.2 in /usr/local/lib/python3.11/dist-packages (from tensorflow->-r requirements.txt (line 2)) (3.4.0)\n",
      "Requirement already satisfied: packaging in /usr/local/lib/python3.11/dist-packages (from tensorflow->-r requirements.txt (line 2)) (24.2)\n",
      "Requirement already satisfied: protobuf!=4.21.0,!=4.21.1,!=4.21.2,!=4.21.3,!=4.21.4,!=4.21.5,<6.0.0dev,>=3.20.3 in /usr/local/lib/python3.11/dist-packages (from tensorflow->-r requirements.txt (line 2)) (4.25.6)\n",
      "Requirement already satisfied: requests<3,>=2.21.0 in /usr/local/lib/python3.11/dist-packages (from tensorflow->-r requirements.txt (line 2)) (2.32.3)\n",
      "Requirement already satisfied: setuptools in /usr/local/lib/python3.11/dist-packages (from tensorflow->-r requirements.txt (line 2)) (75.1.0)\n",
      "Requirement already satisfied: six>=1.12.0 in /usr/local/lib/python3.11/dist-packages (from tensorflow->-r requirements.txt (line 2)) (1.17.0)\n",
      "Requirement already satisfied: termcolor>=1.1.0 in /usr/local/lib/python3.11/dist-packages (from tensorflow->-r requirements.txt (line 2)) (2.5.0)\n",
      "Requirement already satisfied: typing-extensions>=3.6.6 in /usr/local/lib/python3.11/dist-packages (from tensorflow->-r requirements.txt (line 2)) (4.12.2)\n",
      "Requirement already satisfied: wrapt>=1.11.0 in /usr/local/lib/python3.11/dist-packages (from tensorflow->-r requirements.txt (line 2)) (1.17.2)\n",
      "Requirement already satisfied: grpcio<2.0,>=1.24.3 in /usr/local/lib/python3.11/dist-packages (from tensorflow->-r requirements.txt (line 2)) (1.70.0)\n",
      "Requirement already satisfied: tensorboard<2.19,>=2.18 in /usr/local/lib/python3.11/dist-packages (from tensorflow->-r requirements.txt (line 2)) (2.18.0)\n",
      "Requirement already satisfied: h5py>=3.11.0 in /usr/local/lib/python3.11/dist-packages (from tensorflow->-r requirements.txt (line 2)) (3.12.1)\n",
      "Requirement already satisfied: ml-dtypes<0.5.0,>=0.4.0 in /usr/local/lib/python3.11/dist-packages (from tensorflow->-r requirements.txt (line 2)) (0.4.1)\n",
      "Requirement already satisfied: tensorflow-io-gcs-filesystem>=0.23.1 in /usr/local/lib/python3.11/dist-packages (from tensorflow->-r requirements.txt (line 2)) (0.37.1)\n",
      "Requirement already satisfied: joblib>=1.2.0 in /usr/local/lib/python3.11/dist-packages (from scikit-learn->-r requirements.txt (line 5)) (1.4.2)\n",
      "Requirement already satisfied: threadpoolctl>=3.1.0 in /usr/local/lib/python3.11/dist-packages (from scikit-learn->-r requirements.txt (line 5)) (3.5.0)\n",
      "Requirement already satisfied: pandas>=1.2 in /usr/local/lib/python3.11/dist-packages (from seaborn->-r requirements.txt (line 6)) (2.2.2)\n",
      "Requirement already satisfied: contourpy>=1.0.1 in /usr/local/lib/python3.11/dist-packages (from matplotlib->-r requirements.txt (line 8)) (1.3.1)\n",
      "Requirement already satisfied: cycler>=0.10 in /usr/local/lib/python3.11/dist-packages (from matplotlib->-r requirements.txt (line 8)) (0.12.1)\n",
      "Requirement already satisfied: fonttools>=4.22.0 in /usr/local/lib/python3.11/dist-packages (from matplotlib->-r requirements.txt (line 8)) (4.56.0)\n",
      "Requirement already satisfied: kiwisolver>=1.3.1 in /usr/local/lib/python3.11/dist-packages (from matplotlib->-r requirements.txt (line 8)) (1.4.8)\n",
      "Requirement already satisfied: pyparsing>=2.3.1 in /usr/local/lib/python3.11/dist-packages (from matplotlib->-r requirements.txt (line 8)) (3.2.1)\n",
      "Requirement already satisfied: python-dateutil>=2.7 in /usr/local/lib/python3.11/dist-packages (from matplotlib->-r requirements.txt (line 8)) (2.8.2)\n",
      "Requirement already satisfied: networkx>=3.0 in /usr/local/lib/python3.11/dist-packages (from scikit-image->-r requirements.txt (line 9)) (3.4.2)\n",
      "Requirement already satisfied: imageio!=2.35.0,>=2.33 in /usr/local/lib/python3.11/dist-packages (from scikit-image->-r requirements.txt (line 9)) (2.37.0)\n",
      "Requirement already satisfied: tifffile>=2022.8.12 in /usr/local/lib/python3.11/dist-packages (from scikit-image->-r requirements.txt (line 9)) (2025.2.18)\n",
      "Requirement already satisfied: lazy-loader>=0.4 in /usr/local/lib/python3.11/dist-packages (from scikit-image->-r requirements.txt (line 9)) (0.4)\n",
      "Requirement already satisfied: llvmlite<0.45,>=0.44.0dev0 in /usr/local/lib/python3.11/dist-packages (from numba->-r requirements.txt (line 10)) (0.44.0)\n",
      "Requirement already satisfied: pynndescent>=0.5 in /usr/local/lib/python3.11/dist-packages (from umap-learn->-r requirements.txt (line 11)) (0.5.13)\n",
      "Requirement already satisfied: tqdm in /usr/local/lib/python3.11/dist-packages (from umap-learn->-r requirements.txt (line 11)) (4.67.1)\n",
      "Requirement already satisfied: rich in /usr/local/lib/python3.11/dist-packages (from keras->-r requirements.txt (line 12)) (13.9.4)\n",
      "Requirement already satisfied: namex in /usr/local/lib/python3.11/dist-packages (from keras->-r requirements.txt (line 12)) (0.0.8)\n",
      "Requirement already satisfied: optree in /usr/local/lib/python3.11/dist-packages (from keras->-r requirements.txt (line 12)) (0.14.0)\n",
      "Requirement already satisfied: wheel<1.0,>=0.23.0 in /usr/local/lib/python3.11/dist-packages (from astunparse>=1.6.0->tensorflow->-r requirements.txt (line 2)) (0.45.1)\n",
      "Requirement already satisfied: pytz>=2020.1 in /usr/local/lib/python3.11/dist-packages (from pandas>=1.2->seaborn->-r requirements.txt (line 6)) (2025.1)\n",
      "Requirement already satisfied: tzdata>=2022.7 in /usr/local/lib/python3.11/dist-packages (from pandas>=1.2->seaborn->-r requirements.txt (line 6)) (2025.1)\n",
      "Requirement already satisfied: charset-normalizer<4,>=2 in /usr/local/lib/python3.11/dist-packages (from requests<3,>=2.21.0->tensorflow->-r requirements.txt (line 2)) (3.4.1)\n",
      "Requirement already satisfied: idna<4,>=2.5 in /usr/local/lib/python3.11/dist-packages (from requests<3,>=2.21.0->tensorflow->-r requirements.txt (line 2)) (3.10)\n",
      "Requirement already satisfied: urllib3<3,>=1.21.1 in /usr/local/lib/python3.11/dist-packages (from requests<3,>=2.21.0->tensorflow->-r requirements.txt (line 2)) (2.3.0)\n",
      "Requirement already satisfied: certifi>=2017.4.17 in /usr/local/lib/python3.11/dist-packages (from requests<3,>=2.21.0->tensorflow->-r requirements.txt (line 2)) (2025.1.31)\n",
      "Requirement already satisfied: markdown>=2.6.8 in /usr/local/lib/python3.11/dist-packages (from tensorboard<2.19,>=2.18->tensorflow->-r requirements.txt (line 2)) (3.7)\n",
      "Requirement already satisfied: tensorboard-data-server<0.8.0,>=0.7.0 in /usr/local/lib/python3.11/dist-packages (from tensorboard<2.19,>=2.18->tensorflow->-r requirements.txt (line 2)) (0.7.2)\n",
      "Requirement already satisfied: werkzeug>=1.0.1 in /usr/local/lib/python3.11/dist-packages (from tensorboard<2.19,>=2.18->tensorflow->-r requirements.txt (line 2)) (3.1.3)\n",
      "Requirement already satisfied: markdown-it-py>=2.2.0 in /usr/local/lib/python3.11/dist-packages (from rich->keras->-r requirements.txt (line 12)) (3.0.0)\n",
      "Requirement already satisfied: pygments<3.0.0,>=2.13.0 in /usr/local/lib/python3.11/dist-packages (from rich->keras->-r requirements.txt (line 12)) (2.18.0)\n",
      "Requirement already satisfied: mdurl~=0.1 in /usr/local/lib/python3.11/dist-packages (from markdown-it-py>=2.2.0->rich->keras->-r requirements.txt (line 12)) (0.1.2)\n",
      "Requirement already satisfied: MarkupSafe>=2.1.1 in /usr/local/lib/python3.11/dist-packages (from werkzeug>=1.0.1->tensorboard<2.19,>=2.18->tensorflow->-r requirements.txt (line 2)) (3.0.2)\n"
     ]
    }
   ],
   "source": [
    "!pip install -r requirements.txt"
   ]
  },
  {
   "cell_type": "code",
   "execution_count": 47,
   "metadata": {
    "id": "7VGHPdKfE5i6"
   },
   "outputs": [],
   "source": [
    "import os\n",
    "import numpy as np\n",
    "import cv2\n",
    "from PIL import Image\n",
    "import numpy as np\n",
    "import umap\n",
    "from sklearn.preprocessing import StandardScaler, LabelEncoder, label_binarize\n",
    "from sklearn.utils import shuffle\n",
    "from sklearn.model_selection import KFold\n",
    "from tensorflow.keras.preprocessing.image import ImageDataGenerator\n",
    "from tensorflow.keras.models import Sequential\n",
    "from tensorflow.keras.layers import Conv2D, MaxPooling2D, Flatten, Dense, Dropout\n",
    "from tensorflow.keras.utils import to_categorical\n",
    "from sklearn.model_selection import train_test_split, GridSearchCV, cross_val_score, learning_curve, validation_curve\n",
    "from sklearn.svm import SVC\n",
    "import umap.umap_ as umap\n",
    "from sklearn.metrics import classification_report, accuracy_score, ConfusionMatrixDisplay, roc_curve, auc, confusion_matrix\n",
    "import seaborn as sns\n",
    "from scipy.stats import f_oneway\n",
    "import matplotlib.pyplot as plt\n",
    "import pickle\n",
    "from collections import Counter"
   ]
  },
  {
   "cell_type": "code",
   "execution_count": null,
   "metadata": {
    "colab": {
     "base_uri": "https://localhost:8080/"
    },
    "executionInfo": {
     "elapsed": 37298,
     "status": "ok",
     "timestamp": 1740486407776,
     "user": {
      "displayName": "JOAO CORDEIRO",
      "userId": "15883881216218269427"
     },
     "user_tz": 180
    },
    "id": "XT22M0kwEjx0",
    "outputId": "c0baa28d-86de-4734-d110-050d681cc24a"
   },
   "outputs": [
    {
     "name": "stdout",
     "output_type": "stream",
     "text": [
      "Mounted at /content/drive\n"
     ]
    }
   ],
   "source": [
    "from google.colab import drive\n",
    "drive.mount('/content/drive')"
   ]
  },
  {
   "cell_type": "code",
   "execution_count": 38,
   "metadata": {
    "collapsed": true,
    "id": "hRAnnARox5LY"
   },
   "outputs": [],
   "source": [
    "dataset_path = \"fruits_dataset/fruits-test\"\n",
    "IMAGE_SIZE = (100, 100)\n",
    "BATCH_SIZE = 500  # Treino em lotes\n",
    "DATA_AUGMENTATION = True\n",
    "NUM_CLASSES = 7\n",
    "\n",
    "# def visualize_samples(path, num_samples=5):\n",
    "#     sample_path = os.path.join(path, \"Banana 1\")\n",
    "#     sample_images = os.listdir(sample_path)[:num_samples]\n",
    "#     for img in sample_images:\n",
    "#         image = Image.open(os.path.join(sample_path, img))\n",
    "#         plt.imshow(image)\n",
    "#         plt.axis('off')\n",
    "#         plt.show()\n",
    "\n",
    "# visualize_samples(dataset_path)"
   ]
  },
  {
   "cell_type": "markdown",
   "metadata": {
    "id": "PnsDOQ7qy0eL"
   },
   "source": [
    "## Pré-processamento das Imagens"
   ]
  },
  {
   "cell_type": "code",
   "execution_count": 41,
   "metadata": {
    "colab": {
     "base_uri": "https://localhost:8080/"
    },
    "id": "tEK4mZLQx8Ol",
    "outputId": "c1e88930-8705-4bc1-d4e1-e51e67682441"
   },
   "outputs": [
    {
     "name": "stderr",
     "output_type": "stream",
     "text": [
      "c:\\Users\\4seri\\AppData\\Local\\Programs\\Python\\Python310\\lib\\site-packages\\sklearn\\utils\\deprecation.py:151: FutureWarning: 'force_all_finite' was renamed to 'ensure_all_finite' in 1.6 and will be removed in 1.8.\n",
      "  warnings.warn(\n",
      "c:\\Users\\4seri\\AppData\\Local\\Programs\\Python\\Python310\\lib\\site-packages\\umap\\umap_.py:1952: UserWarning: n_jobs value 1 overridden to 1 by setting random_state. Use no seed for parallelism.\n",
      "  warn(\n",
      "c:\\Users\\4seri\\AppData\\Local\\Programs\\Python\\Python310\\lib\\site-packages\\sklearn\\utils\\deprecation.py:151: FutureWarning: 'force_all_finite' was renamed to 'ensure_all_finite' in 1.6 and will be removed in 1.8.\n",
      "  warnings.warn(\n",
      "c:\\Users\\4seri\\AppData\\Local\\Programs\\Python\\Python310\\lib\\site-packages\\sklearn\\utils\\deprecation.py:151: FutureWarning: 'force_all_finite' was renamed to 'ensure_all_finite' in 1.6 and will be removed in 1.8.\n",
      "  warnings.warn(\n"
     ]
    }
   ],
   "source": [
    "# Criar gerador de imagens para Data Augmentation\n",
    "data_gen = ImageDataGenerator(\n",
    "    rotation_range=15, width_shift_range=0.1, height_shift_range=0.1,\n",
    "    shear_range=0.1, zoom_range=0.1, horizontal_flip=True\n",
    ")\n",
    "\n",
    "def load_images_and_labels(dataset_path):\n",
    "    X, y = [], []\n",
    "    label_encoder = LabelEncoder()\n",
    "\n",
    "    fruit_dirs = os.listdir(dataset_path)\n",
    "    label_encoder.fit(fruit_dirs)\n",
    "\n",
    "    for fruit_dir in fruit_dirs:\n",
    "        fruit_path = os.path.join(dataset_path, fruit_dir)\n",
    "        img_files = os.listdir(fruit_path)\n",
    "\n",
    "        for img_file in img_files:\n",
    "            img_path = os.path.join(fruit_path, img_file)\n",
    "            img = cv2.imread(img_path)\n",
    "            if img is None:\n",
    "                print(f\"Erro ao carregar imagem: {img_path}\")\n",
    "                continue\n",
    "            img = cv2.resize(img, IMAGE_SIZE)\n",
    "            img = img.astype(np.float32) / 255.0  # Normalização [0,1]\n",
    "            X.append(img.flatten())  # Vetorização\n",
    "            y.append(fruit_dir)\n",
    "\n",
    "    return np.array(X), label_encoder.transform(y), label_encoder\n",
    "\n",
    "# Carregar imagens e rótulos\n",
    "X, y, label_encoder = load_images_and_labels(dataset_path)\n",
    "\n",
    "# Dividir dataset\n",
    "X_train, X_test, y_train, y_test = train_test_split(X, y, test_size=0.2, random_state=42, stratify=y)\n",
    "\n",
    "# Aplicar Data Augmentation apenas no conjunto de treino\n",
    "if DATA_AUGMENTATION:\n",
    "    X_train_augmented, y_train_augmented = [], []\n",
    "    X_train_reshaped = X_train.reshape(-1, 100, 100, 3)\n",
    "\n",
    "    # Gerar novas imagens até atingir o número desejado\n",
    "    aug_batches = data_gen.flow(X_train_reshaped, y_train, batch_size=BATCH_SIZE, shuffle=False)\n",
    "\n",
    "    for i in range(len(X_train) // BATCH_SIZE):  # Gera apenas a quantidade correta de amostras\n",
    "        X_batch, y_batch = next(aug_batches)\n",
    "        X_train_augmented.extend(X_batch.reshape(X_batch.shape[0], -1))\n",
    "        y_train_augmented.extend(y_batch)\n",
    "\n",
    "    X_train_augmented = np.array(X_train_augmented)\n",
    "    y_train_augmented = np.array(y_train_augmented)\n",
    "\n",
    "    # Certificar que o número de amostras bate antes de concatenar\n",
    "    min_samples = min(len(X_train_augmented), len(y_train))\n",
    "    X_train = np.vstack((X_train, X_train_augmented[:min_samples]))\n",
    "    y_train = np.hstack((y_train, y_train_augmented[:min_samples]))\n",
    "\n",
    "# Normalização\n",
    "scaler = StandardScaler()\n",
    "X_train = scaler.fit_transform(X_train)\n",
    "X_test = scaler.transform(X_test)\n",
    "\n",
    "# Reduzir dimensionalidade com UMAP\n",
    "umap_reducer = umap.UMAP(n_components=50, random_state=42)\n",
    "X_train_umap = umap_reducer.fit_transform(X_train, y_train)\n",
    "X_test_umap = umap_reducer.transform(X_test)"
   ]
  },
  {
   "cell_type": "code",
   "execution_count": 42,
   "metadata": {},
   "outputs": [],
   "source": [
    "### Teste para CNN\n",
    "\n",
    "def load_images_and_labels(dataset_path):\n",
    "    X, y = [], []\n",
    "    label_encoder = LabelEncoder()\n",
    "\n",
    "    # Listar as pastas (que são as classes) dentro do dataset\n",
    "    fruit_dirs = os.listdir(dataset_path)\n",
    "    label_encoder.fit(fruit_dirs)  # Ajuste do encoder para as classes\n",
    "\n",
    "    for fruit_dir in fruit_dirs:\n",
    "        fruit_path = os.path.join(dataset_path, fruit_dir)\n",
    "        img_files = os.listdir(fruit_path)\n",
    "\n",
    "        for img_file in img_files:\n",
    "            img_path = os.path.join(fruit_path, img_file)\n",
    "            img = cv2.imread(img_path)\n",
    "            if img is None:\n",
    "                print(f\"Erro ao carregar imagem: {img_path}\")\n",
    "                continue\n",
    "            img = cv2.resize(img, IMAGE_SIZE)  # Redimensionar a imagem\n",
    "            img = img.astype(np.float32) / 255.0  # Normalizar para [0, 1]\n",
    "            X.append(img)\n",
    "            y.append(fruit_dir)  # Rótulo da imagem\n",
    "\n",
    "    # Transformar os rótulos em números\n",
    "    y = label_encoder.transform(y)\n",
    "\n",
    "    return np.array(X), y, label_encoder\n",
    "\n",
    "# Carregar as imagens e os rótulos\n",
    "dataset_path = \"fruits_dataset/fruits-test\"\n",
    "X, y, label_encoder = load_images_and_labels(dataset_path)\n",
    "\n",
    "# Dividir em conjunto de treino e teste\n",
    "X_train, X_test, y_train, y_test = train_test_split(X, y, test_size=0.2, random_state=42, stratify=y)\n",
    "\n",
    "# Aplicar Data Augmentation se necessário\n",
    "if DATA_AUGMENTATION:\n",
    "    data_gen = ImageDataGenerator(\n",
    "        rotation_range=15, width_shift_range=0.1, height_shift_range=0.1,\n",
    "        shear_range=0.1, zoom_range=0.1, horizontal_flip=True\n",
    "    )\n",
    "    \n",
    "    X_train_reshaped = X_train.reshape(-1, 100, 100, 3)  # Ajustar formato para o modelo\n",
    "    aug_batches = data_gen.flow(X_train_reshaped, y_train, batch_size=BATCH_SIZE, shuffle=False)\n",
    "    \n",
    "    X_train_augmented, y_train_augmented = [], []\n",
    "    for i in range(len(X_train) // BATCH_SIZE):\n",
    "        X_batch, y_batch = next(aug_batches)\n",
    "        X_train_augmented.extend(X_batch)\n",
    "        y_train_augmented.extend(y_batch)\n",
    "\n",
    "    # Ajustar a variável de treino\n",
    "    X_train_augmented = np.array(X_train_augmented)\n",
    "    y_train_augmented = np.array(y_train_augmented)\n",
    "\n",
    "    X_train = np.vstack((X_train, X_train_augmented))\n",
    "    y_train = np.hstack((y_train, y_train_augmented))\n",
    "\n",
    "# Convertendo os rótulos para one-hot encoding\n",
    "y_train_cnn = to_categorical(y_train, num_classes=NUM_CLASSES)\n",
    "y_test_cnn = to_categorical(y_test, num_classes=NUM_CLASSES)"
   ]
  },
  {
   "cell_type": "markdown",
   "metadata": {
    "id": "L7wW4jeTOMD5"
   },
   "source": [
    "## Classificação de Padrões"
   ]
  },
  {
   "cell_type": "code",
   "execution_count": 4,
   "metadata": {
    "id": "4wzlqhRkGNDJ",
    "outputId": "cddef0a4-554d-4bd7-d513-d9937c5cebca"
   },
   "outputs": [
    {
     "name": "stdout",
     "output_type": "stream",
     "text": [
      "Distribuição de Classes: Counter({5: 984, 3: 936, 0: 656, 1: 656, 4: 656, 6: 655, 2: 600})\n"
     ]
    },
    {
     "data": {
      "image/png": "[encoded data removed]",
      "text/plain": [
       "<Figure size 640x480 with 1 Axes>"
      ]
     },
     "metadata": {},
     "output_type": "display_data"
    }
   ],
   "source": [
    "from collections import Counter\n",
    "class_distribution = Counter(y)\n",
    "print(\"Distribuição de Classes:\", class_distribution)\n",
    "sorted_classes = sorted(class_distribution.keys())\n",
    "plt.bar(sorted_classes, [class_distribution[c] for c in sorted_classes])\n",
    "plt.xticks(rotation=90)\n",
    "plt.title(\"Distribuição de Classes\")\n",
    "plt.show()"
   ]
  },
  {
   "cell_type": "code",
   "execution_count": null,
   "metadata": {
    "id": "JshNCtbHORkf"
   },
   "outputs": [],
   "source": [
    "# Classificação usando SVM\n",
    "param_grid = {\n",
    "    'C': [0.1],\n",
    "    'kernel': ['rbf'], # ['linear', 'poly', 'rbf', 'sigmoid']\n",
    "    # 'degree': [2, 3, 4], # if 'poly'\n",
    "    'gamma': [100] # ['scale', 'auto', 0.001, 0.01, 0.1, 1]\n",
    "}\n",
    "\n",
    "grid_search = GridSearchCV(SVC(), param_grid, cv=5)\n",
    "grid_search.fit(X_train_umap, y_train)\n",
    "best_svm = grid_search.best_estimator_\n",
    "svm_predictions = best_svm.predict(X_test_umap)"
   ]
  },
  {
   "cell_type": "code",
   "execution_count": 44,
   "metadata": {},
   "outputs": [
    {
     "name": "stdout",
     "output_type": "stream",
     "text": [
      "Epoch 1/20\n",
      "\u001b[1m254/254\u001b[0m \u001b[32m━━━━━━━━━━━━━━━━━━━━\u001b[0m\u001b[37m\u001b[0m \u001b[1m88s\u001b[0m 304ms/step - AUC: 0.9285 - Precision: 0.8763 - Recall: 0.6066 - accuracy: 0.7165 - loss: 0.7514 - val_AUC: 0.9960 - val_Precision: 0.9864 - val_Recall: 0.9864 - val_accuracy: 0.9864 - val_loss: 0.0707\n",
      "Epoch 2/20\n",
      "\u001b[1m254/254\u001b[0m \u001b[32m━━━━━━━━━━━━━━━━━━━━\u001b[0m\u001b[37m\u001b[0m \u001b[1m76s\u001b[0m 300ms/step - AUC: 0.9990 - Precision: 0.9756 - Recall: 0.9615 - accuracy: 0.9661 - loss: 0.0876 - val_AUC: 1.0000 - val_Precision: 1.0000 - val_Recall: 1.0000 - val_accuracy: 1.0000 - val_loss: 1.6060e-04\n",
      "Epoch 3/20\n",
      "\u001b[1m254/254\u001b[0m \u001b[32m━━━━━━━━━━━━━━━━━━━━\u001b[0m\u001b[37m\u001b[0m \u001b[1m139s\u001b[0m 519ms/step - AUC: 0.9996 - Precision: 0.9823 - Recall: 0.9745 - accuracy: 0.9771 - loss: 0.0543 - val_AUC: 1.0000 - val_Precision: 1.0000 - val_Recall: 1.0000 - val_accuracy: 1.0000 - val_loss: 5.7134e-05\n",
      "Epoch 4/20\n",
      "\u001b[1m254/254\u001b[0m \u001b[32m━━━━━━━━━━━━━━━━━━━━\u001b[0m\u001b[37m\u001b[0m \u001b[1m103s\u001b[0m 405ms/step - AUC: 0.9995 - Precision: 0.9819 - Recall: 0.9767 - accuracy: 0.9784 - loss: 0.0494 - val_AUC: 1.0000 - val_Precision: 1.0000 - val_Recall: 1.0000 - val_accuracy: 1.0000 - val_loss: 2.5220e-07\n",
      "Epoch 5/20\n",
      "\u001b[1m254/254\u001b[0m \u001b[32m━━━━━━━━━━━━━━━━━━━━\u001b[0m\u001b[37m\u001b[0m \u001b[1m106s\u001b[0m 260ms/step - AUC: 0.9988 - Precision: 0.9802 - Recall: 0.9717 - accuracy: 0.9750 - loss: 0.0728 - val_AUC: 1.0000 - val_Precision: 1.0000 - val_Recall: 1.0000 - val_accuracy: 1.0000 - val_loss: 2.8835e-07\n",
      "Epoch 6/20\n",
      "\u001b[1m254/254\u001b[0m \u001b[32m━━━━━━━━━━━━━━━━━━━━\u001b[0m\u001b[37m\u001b[0m \u001b[1m82s\u001b[0m 258ms/step - AUC: 0.9995 - Precision: 0.9857 - Recall: 0.9806 - accuracy: 0.9830 - loss: 0.0445 - val_AUC: 1.0000 - val_Precision: 1.0000 - val_Recall: 1.0000 - val_accuracy: 1.0000 - val_loss: 9.4069e-08\n",
      "Epoch 7/20\n",
      "\u001b[1m254/254\u001b[0m \u001b[32m━━━━━━━━━━━━━━━━━━━━\u001b[0m\u001b[37m\u001b[0m \u001b[1m84s\u001b[0m 267ms/step - AUC: 0.9998 - Precision: 0.9880 - Recall: 0.9834 - accuracy: 0.9850 - loss: 0.0361 - val_AUC: 1.0000 - val_Precision: 1.0000 - val_Recall: 1.0000 - val_accuracy: 1.0000 - val_loss: 1.1734e-06\n",
      "Epoch 8/20\n",
      "\u001b[1m254/254\u001b[0m \u001b[32m━━━━━━━━━━━━━━━━━━━━\u001b[0m\u001b[37m\u001b[0m \u001b[1m105s\u001b[0m 356ms/step - AUC: 0.9998 - Precision: 0.9877 - Recall: 0.9828 - accuracy: 0.9840 - loss: 0.0325 - val_AUC: 1.0000 - val_Precision: 1.0000 - val_Recall: 1.0000 - val_accuracy: 1.0000 - val_loss: 1.3809e-07\n",
      "Epoch 9/20\n",
      "\u001b[1m254/254\u001b[0m \u001b[32m━━━━━━━━━━━━━━━━━━━━\u001b[0m\u001b[37m\u001b[0m \u001b[1m67s\u001b[0m 262ms/step - AUC: 0.9999 - Precision: 0.9908 - Recall: 0.9842 - accuracy: 0.9851 - loss: 0.0300 - val_AUC: 1.0000 - val_Precision: 1.0000 - val_Recall: 1.0000 - val_accuracy: 1.0000 - val_loss: 1.1333e-04\n",
      "Epoch 10/20\n",
      "\u001b[1m254/254\u001b[0m \u001b[32m━━━━━━━━━━━━━━━━━━━━\u001b[0m\u001b[37m\u001b[0m \u001b[1m81s\u001b[0m 257ms/step - AUC: 0.9931 - Precision: 0.9584 - Recall: 0.9434 - accuracy: 0.9507 - loss: 0.2492 - val_AUC: 1.0000 - val_Precision: 1.0000 - val_Recall: 1.0000 - val_accuracy: 1.0000 - val_loss: 1.4114e-05\n",
      "Epoch 11/20\n",
      "\u001b[1m254/254\u001b[0m \u001b[32m━━━━━━━━━━━━━━━━━━━━\u001b[0m\u001b[37m\u001b[0m \u001b[1m63s\u001b[0m 247ms/step - AUC: 0.9997 - Precision: 0.9877 - Recall: 0.9817 - accuracy: 0.9835 - loss: 0.0406 - val_AUC: 1.0000 - val_Precision: 1.0000 - val_Recall: 1.0000 - val_accuracy: 1.0000 - val_loss: 5.9915e-07\n",
      "Epoch 12/20\n",
      "\u001b[1m254/254\u001b[0m \u001b[32m━━━━━━━━━━━━━━━━━━━━\u001b[0m\u001b[37m\u001b[0m \u001b[1m66s\u001b[0m 259ms/step - AUC: 0.9999 - Precision: 0.9862 - Recall: 0.9825 - accuracy: 0.9834 - loss: 0.0338 - val_AUC: 1.0000 - val_Precision: 1.0000 - val_Recall: 1.0000 - val_accuracy: 1.0000 - val_loss: 1.9104e-06\n",
      "Epoch 13/20\n",
      "\u001b[1m254/254\u001b[0m \u001b[32m━━━━━━━━━━━━━━━━━━━━\u001b[0m\u001b[37m\u001b[0m \u001b[1m63s\u001b[0m 250ms/step - AUC: 0.9997 - Precision: 0.9899 - Recall: 0.9870 - accuracy: 0.9872 - loss: 0.0274 - val_AUC: 1.0000 - val_Precision: 1.0000 - val_Recall: 1.0000 - val_accuracy: 1.0000 - val_loss: 8.4695e-07\n",
      "Epoch 14/20\n",
      "\u001b[1m254/254\u001b[0m \u001b[32m━━━━━━━━━━━━━━━━━━━━\u001b[0m\u001b[37m\u001b[0m \u001b[1m61s\u001b[0m 238ms/step - AUC: 0.9999 - Precision: 0.9914 - Recall: 0.9882 - accuracy: 0.9897 - loss: 0.0227 - val_AUC: 1.0000 - val_Precision: 0.9981 - val_Recall: 0.9981 - val_accuracy: 0.9981 - val_loss: 0.0035\n",
      "Epoch 15/20\n",
      "\u001b[1m254/254\u001b[0m \u001b[32m━━━━━━━━━━━━━━━━━━━━\u001b[0m\u001b[37m\u001b[0m \u001b[1m65s\u001b[0m 257ms/step - AUC: 0.9987 - Precision: 0.9878 - Recall: 0.9810 - accuracy: 0.9840 - loss: 0.0523 - val_AUC: 1.0000 - val_Precision: 1.0000 - val_Recall: 1.0000 - val_accuracy: 1.0000 - val_loss: 4.5760e-08\n",
      "Epoch 16/20\n",
      "\u001b[1m254/254\u001b[0m \u001b[32m━━━━━━━━━━━━━━━━━━━━\u001b[0m\u001b[37m\u001b[0m \u001b[1m96s\u001b[0m 310ms/step - AUC: 0.9997 - Precision: 0.9948 - Recall: 0.9922 - accuracy: 0.9924 - loss: 0.0194 - val_AUC: 1.0000 - val_Precision: 1.0000 - val_Recall: 1.0000 - val_accuracy: 1.0000 - val_loss: 7.7618e-08\n",
      "Epoch 17/20\n",
      "\u001b[1m254/254\u001b[0m \u001b[32m━━━━━━━━━━━━━━━━━━━━\u001b[0m\u001b[37m\u001b[0m \u001b[1m89s\u001b[0m 337ms/step - AUC: 1.0000 - Precision: 0.9950 - Recall: 0.9934 - accuracy: 0.9938 - loss: 0.0126 - val_AUC: 1.0000 - val_Precision: 1.0000 - val_Recall: 1.0000 - val_accuracy: 1.0000 - val_loss: 1.0426e-09\n",
      "Epoch 18/20\n",
      "\u001b[1m254/254\u001b[0m \u001b[32m━━━━━━━━━━━━━━━━━━━━\u001b[0m\u001b[37m\u001b[0m \u001b[1m136s\u001b[0m 314ms/step - AUC: 1.0000 - Precision: 0.9923 - Recall: 0.9895 - accuracy: 0.9907 - loss: 0.0181 - val_AUC: 1.0000 - val_Precision: 1.0000 - val_Recall: 1.0000 - val_accuracy: 1.0000 - val_loss: 3.0121e-09\n",
      "Epoch 19/20\n",
      "\u001b[1m254/254\u001b[0m \u001b[32m━━━━━━━━━━━━━━━━━━━━\u001b[0m\u001b[37m\u001b[0m \u001b[1m68s\u001b[0m 269ms/step - AUC: 0.9998 - Precision: 0.9933 - Recall: 0.9916 - accuracy: 0.9923 - loss: 0.0184 - val_AUC: 0.9993 - val_Precision: 0.9893 - val_Recall: 0.9893 - val_accuracy: 0.9893 - val_loss: 0.0357\n",
      "Epoch 20/20\n",
      "\u001b[1m254/254\u001b[0m \u001b[32m━━━━━━━━━━━━━━━━━━━━\u001b[0m\u001b[37m\u001b[0m \u001b[1m63s\u001b[0m 246ms/step - AUC: 0.9979 - Precision: 0.9804 - Recall: 0.9746 - accuracy: 0.9778 - loss: 0.0741 - val_AUC: 1.0000 - val_Precision: 1.0000 - val_Recall: 1.0000 - val_accuracy: 1.0000 - val_loss: 9.1569e-07\n"
     ]
    }
   ],
   "source": [
    "# Construir a CNN\n",
    "cnn_model = Sequential()\n",
    "\n",
    "# Camada convolucional + max pooling\n",
    "cnn_model.add(Conv2D(32, (3, 3), activation='relu', input_shape=(100, 100, 3)))\n",
    "cnn_model.add(MaxPooling2D(pool_size=(2, 2)))\n",
    "\n",
    "cnn_model.add(Conv2D(64, (3, 3), activation='relu'))\n",
    "cnn_model.add(MaxPooling2D(pool_size=(2, 2)))\n",
    "\n",
    "cnn_model.add(Conv2D(128, (3, 3), activation='relu'))\n",
    "cnn_model.add(MaxPooling2D(pool_size=(2, 2)))\n",
    "\n",
    "# Achatar a saída para alimentar as camadas densas\n",
    "cnn_model.add(Flatten())\n",
    "\n",
    "# Camada densa totalmente conectada\n",
    "cnn_model.add(Dense(128, activation='relu'))\n",
    "cnn_model.add(Dropout(0.7))\n",
    "\n",
    "# Camada de saída com ativação softmax para classificação multiclasse\n",
    "cnn_model.add(Dense(NUM_CLASSES, activation='softmax'))\n",
    "\n",
    "# Compilando o modelo com as métricas desejadas\n",
    "cnn_model.compile(optimizer='adam',\n",
    "                  loss='categorical_crossentropy',\n",
    "                  metrics=['accuracy', 'Precision', 'Recall', 'AUC'])\n",
    "\n",
    "# Treinando o modelo\n",
    "history = cnn_model.fit(X_train, y_train_cnn,\n",
    "                        epochs=20, batch_size=32,\n",
    "                        validation_data=(X_test, y_test_cnn))"
   ]
  },
  {
   "cell_type": "markdown",
   "metadata": {
    "id": "GTztYt8izwmV"
   },
   "source": [
    "## Regressão de Funções e Avaliação"
   ]
  },
  {
   "cell_type": "code",
   "execution_count": null,
   "metadata": {
    "id": "izt4evemz3dm",
    "outputId": "7b939cf2-2b9a-4d37-d02f-518b2abc8dd4"
   },
   "outputs": [
    {
     "name": "stdout",
     "output_type": "stream",
     "text": [
      "SVM Classification Report:\n",
      "              precision    recall  f1-score   support\n",
      "\n",
      "           0       1.00      0.32      0.49       131\n",
      "           1       1.00      0.23      0.37       131\n",
      "           2       1.00      0.15      0.26       120\n",
      "           3       1.00      0.79      0.88       188\n",
      "           4       1.00      0.20      0.33       131\n",
      "           5       0.27      1.00      0.42       197\n",
      "           6       1.00      0.25      0.40       131\n",
      "\n",
      "    accuracy                           0.48      1029\n",
      "   macro avg       0.90      0.42      0.45      1029\n",
      "weighted avg       0.86      0.48      0.48      1029\n",
      "\n",
      "SVM Accuracy: 0.48104956268221577\n",
      "SVM Cross-validation Accuracy: 0.26173752310536047\n"
     ]
    }
   ],
   "source": [
    "# Avaliação do SVM\n",
    "print(\"SVM Classification Report:\")\n",
    "print(classification_report(y_test, svm_predictions))\n",
    "print(\"SVM Accuracy:\", accuracy_score(y_test, svm_predictions))\n",
    "\n",
    "# Validação cruzada com SVM\n",
    "svm_cv_scores = cross_val_score(best_svm, X_train_umap, y_train, cv=5)\n",
    "print(\"SVM Cross-validation Accuracy:\", svm_cv_scores.mean())"
   ]
  },
  {
   "cell_type": "code",
   "execution_count": 52,
   "metadata": {},
   "outputs": [
    {
     "name": "stdout",
     "output_type": "stream",
     "text": [
      "\u001b[1m33/33\u001b[0m \u001b[32m━━━━━━━━━━━━━━━━━━━━\u001b[0m\u001b[37m\u001b[0m \u001b[1m3s\u001b[0m 96ms/step\n",
      "CNN Classification Report:\n",
      "              precision    recall  f1-score   support\n",
      "\n",
      "           0       1.00      1.00      1.00       131\n",
      "           1       1.00      1.00      1.00       131\n",
      "           2       1.00      1.00      1.00       120\n",
      "           3       1.00      1.00      1.00       188\n",
      "           4       1.00      1.00      1.00       131\n",
      "           5       1.00      1.00      1.00       197\n",
      "           6       1.00      1.00      1.00       131\n",
      "\n",
      "    accuracy                           1.00      1029\n",
      "   macro avg       1.00      1.00      1.00      1029\n",
      "weighted avg       1.00      1.00      1.00      1029\n",
      "\n",
      "CNN Accuracy: 1.0\n"
     ]
    }
   ],
   "source": [
    "##cnn\n",
    "\n",
    "from sklearn.metrics import classification_report, accuracy_score\n",
    "\n",
    "# Fazer previsões no conjunto de teste\n",
    "y_pred_cnn = cnn_model.predict(X_test)\n",
    "\n",
    "# Converter probabilidades em classes (índices da classe prevista)\n",
    "y_pred_cnn_classes = np.argmax(y_pred_cnn, axis=1)\n",
    "\n",
    "# Converter os rótulos reais (one-hot encoded) de volta para índices\n",
    "y_test_cnn_classes = np.argmax(y_test_cnn, axis=1)\n",
    "\n",
    "# Gerar o relatório de classificação\n",
    "print(\"CNN Classification Report:\")\n",
    "print(classification_report(y_test_cnn_classes, y_pred_cnn_classes))\n",
    "\n",
    "# Acurácia do modelo\n",
    "print(\"CNN Accuracy:\", accuracy_score(y_test_cnn_classes, y_pred_cnn_classes))\n"
   ]
  },
  {
   "cell_type": "code",
   "execution_count": null,
   "metadata": {},
   "outputs": [],
   "source": [
    "# Avaliação do SVM\n",
    "print(\"SVM Classification Report:\")\n",
    "print(classification_report(y_test, svm_predictions))\n",
    "print(\"SVM Accuracy:\", accuracy_score(y_test, svm_predictions))\n",
    "\n",
    "# Validação cruzada com SVM\n",
    "svm_cv_scores = cross_val_score(best_svm, X_train_umap, y_train, cv=5)\n",
    "print(\"SVM Cross-validation Accuracy:\", svm_cv_scores.mean())"
   ]
  },
  {
   "cell_type": "code",
   "execution_count": 49,
   "metadata": {
    "id": "ME374VSaFqWG"
   },
   "outputs": [],
   "source": [
    "# # Análise de variância se scores seguem uma distribuição normal e têm variâncias similares (ANOVA)\n",
    "# f_stat, p_value = f_oneway(svm_cv_scores, knn_cv_scores, rf_cv_scores)\n",
    "# print(\"ANOVA F-Statistic:\", f_stat)\n",
    "# print(\"ANOVA P-Value:\", p_value)\n",
    "\n",
    "# if p_value < 0.05:\n",
    "#     print(\"Rejeitamos a hipótese nula: há diferenças estatisticamente significativas entre os modelos.\")\n",
    "# else:\n",
    "#     print(\"Não rejeitamos a hipótese nula: não há evidências de diferenças significativas entre os modelos.\")\n",
    "\n",
    "# # Análise de variância para valores se scores não seguem uma distribuição normal (Kruskal-Wallis)\n",
    "# from scipy.stats import kruskal\n",
    "\n",
    "# h_stat, p_value = kruskal(svm_cv_scores, knn_cv_scores, rf_cv_scores)\n",
    "# print(\"Kruskal-Wallis H-Statistic:\", h_stat)\n",
    "# print(\"Kruskal-Wallis P-Value:\", p_value)\n",
    "\n",
    "# if p_value < 0.05:\n",
    "#     print(\"Rejeitamos a hipótese nula: há diferenças estatisticamente significativas entre os modelos.\")\n",
    "# else:\n",
    "#     print(\"Não rejeitamos a hipótese nula: não há evidências de diferenças significativas entre os modelos.\")"
   ]
  },
  {
   "cell_type": "code",
   "execution_count": 50,
   "metadata": {
    "id": "GaQMWjYmFz_d",
    "outputId": "b07ee931-408d-445e-b6ca-66072a9107ee"
   },
   "outputs": [
    {
     "ename": "NameError",
     "evalue": "name 'best_svm' is not defined",
     "output_type": "error",
     "traceback": [
      "\u001b[1;31m---------------------------------------------------------------------------\u001b[0m",
      "\u001b[1;31mNameError\u001b[0m                                 Traceback (most recent call last)",
      "Cell \u001b[1;32mIn[50], line 1\u001b[0m\n\u001b[1;32m----> 1\u001b[0m \u001b[38;5;28mprint\u001b[39m(\u001b[38;5;124m\"\u001b[39m\u001b[38;5;124mSVM Train Accuracy:\u001b[39m\u001b[38;5;124m\"\u001b[39m, \u001b[43mbest_svm\u001b[49m\u001b[38;5;241m.\u001b[39mscore(X_train_umap, y_train))\n\u001b[0;32m      2\u001b[0m \u001b[38;5;28mprint\u001b[39m(\u001b[38;5;124m\"\u001b[39m\u001b[38;5;124mSVM Test Accuracy:\u001b[39m\u001b[38;5;124m\"\u001b[39m, accuracy_score(y_test, svm_predictions))\n",
      "\u001b[1;31mNameError\u001b[0m: name 'best_svm' is not defined"
     ]
    }
   ],
   "source": [
    "print(\"SVM Train Accuracy:\", best_svm.score(X_train_umap, y_train))\n",
    "print(\"SVM Test Accuracy:\", accuracy_score(y_test, svm_predictions))"
   ]
  },
  {
   "cell_type": "code",
   "execution_count": null,
   "metadata": {
    "id": "ChUBO-h8Lrw3",
    "outputId": "287a883d-afcc-41ce-bc2e-f2c9cf82ce7a"
   },
   "outputs": [
    {
     "data": {
      "image/png": "[encoded data removed]",
      "text/plain": [
       "<Figure size 640x480 with 2 Axes>"
      ]
     },
     "metadata": {},
     "output_type": "display_data"
    },
    {
     "data": {
      "image/png": "[encoded data removed]",
      "text/plain": [
       "<Figure size 640x480 with 2 Axes>"
      ]
     },
     "metadata": {},
     "output_type": "display_data"
    }
   ],
   "source": [
    "ConfusionMatrixDisplay.from_estimator(best_svm, X_test_umap, y_test)\n",
    "plt.title(\"Matriz de Confusão - SVM\")\n",
    "plt.show()\n",
    "\n",
    "ConfusionMatrixDisplay.from_estimator(best_svm, X_test_umap, y_test, normalize='true')\n",
    "plt.title(\"Matriz de Confusão Normalizada - SVM\")\n",
    "plt.show()"
   ]
  },
  {
   "cell_type": "code",
   "execution_count": 51,
   "metadata": {},
   "outputs": [
    {
     "data": {
      "image/png": "[encoded data removed]",
      "text/plain": [
       "<Figure size 600x600 with 2 Axes>"
      ]
     },
     "metadata": {},
     "output_type": "display_data"
    }
   ],
   "source": [
    "cm = confusion_matrix(y_test, y_pred_cnn_classes)\n",
    "plt.figure(figsize=(6, 6))\n",
    "sns.heatmap(cm, annot=True, fmt='d', cmap='Blues', xticklabels=label_encoder.classes_, yticklabels=label_encoder.classes_)\n",
    "plt.title('Confusion Matrix')\n",
    "plt.xlabel('Predicted')\n",
    "plt.ylabel('True')\n",
    "plt.show()"
   ]
  },
  {
   "cell_type": "code",
   "execution_count": null,
   "metadata": {
    "id": "s55RK4zeQwHg"
   },
   "outputs": [],
   "source": [
    "# Função para plotar a curva ROC para cada classe\n",
    "def plot_multiclass_roc(y_test_bin, y_score, model_name):\n",
    "    plt.figure()\n",
    "    for i in range(n_classes):\n",
    "        fpr, tpr, _ = roc_curve(y_test_bin[:, i], y_score[:, i])\n",
    "        roc_auc = auc(fpr, tpr)\n",
    "        plt.plot(fpr, tpr, lw=2, label=f'Classe {i} (AUC = {roc_auc:.2f})')\n",
    "\n",
    "    plt.plot([0, 1], [0, 1], color='navy', lw=2, linestyle='--')  # Linha de referência\n",
    "    plt.xlabel('False Positive Rate')\n",
    "    plt.ylabel('True Positive Rate')\n",
    "    plt.title(f'Curva ROC - {model_name}')\n",
    "    plt.legend(loc='lower right')\n",
    "    plt.show()\n",
    "\n",
    "# Binarizar rótulos (One-hot encoding)\n",
    "n_classes = len(np.unique(y_test))  # Número de classes únicas\n",
    "y_test_bin = label_binarize(y_test, classes=np.arange(n_classes))  # Torna (901,) -> (901, n_classes)\n",
    "\n",
    "# Probabilidades preditas pelos modelos\n",
    "y_score_svm = best_svm.decision_function(X_test_umap)  # Saída do SVM\n",
    "\n",
    "# Plotar curvas ROC para cada modelo\n",
    "plot_multiclass_roc(y_test_bin, y_score_svm, \"SVM\")"
   ]
  },
  {
   "cell_type": "code",
   "execution_count": null,
   "metadata": {
    "id": "R3OCMdjLUXmX"
   },
   "outputs": [],
   "source": [
    "def plot_error_2d(errors, title):\n",
    "    plt.scatter(errors[:, 0], errors[:, 1], color='red', label='Erros')\n",
    "    plt.title(title)\n",
    "    plt.xlabel(\"Componente Principal 1\")\n",
    "    plt.ylabel(\"Componente Principal 2\")\n",
    "    plt.legend()\n",
    "    plt.show()\n",
    "\n",
    "# Encontrar amostras mal classificadas corretamente\n",
    "errors_svm = X_test_umap[np.where(y_test != svm_predictions)]\n",
    "\n",
    "# Plotar os erros para cada modelo\n",
    "plot_error_2d(errors_svm, \"Distribuição de Erros - SVM\")"
   ]
  },
  {
   "cell_type": "code",
   "execution_count": null,
   "metadata": {
    "id": "aYlfFwcSXQWB"
   },
   "outputs": [],
   "source": [
    "def plot_learning_curve(train_sizes, train_mean, test_mean, title):\n",
    "    plt.plot(train_sizes, train_mean, label='Treinamento', color='blue')\n",
    "    plt.plot(train_sizes, test_mean, label='Validação', color='orange')\n",
    "    plt.xlabel('Tamanho do Conjunto de Treinamento')\n",
    "    plt.ylabel('Score')\n",
    "    plt.title(title)\n",
    "    plt.legend()\n",
    "    plt.show()\n",
    "\n",
    "train_sizes_svm, train_scores_svm, test_scores_svm = learning_curve(best_svm, X_train_umap, y_train, cv=5)\n",
    "train_mean_svm = train_scores_svm.mean(axis=1)\n",
    "test_mean_svm = test_scores_svm.mean(axis=1)\n",
    "plot_learning_curve(train_sizes_svm, train_mean_svm, test_mean_svm, \"Curva de Aprendizado - SVM\")"
   ]
  },
  {
   "cell_type": "code",
   "execution_count": null,
   "metadata": {
    "id": "Erfcvoj4ZP6K"
   },
   "outputs": [],
   "source": [
    "def plot_validation_curve(param_range, train_mean, test_mean, title):\n",
    "    plt.plot(param_range, train_mean, label='Treinamento', color='blue')\n",
    "    plt.plot(param_range, test_mean, label='Validação', color='orange')\n",
    "    plt.xlabel('Parâmetro C')\n",
    "    plt.ylabel('Score')\n",
    "    plt.title(title)\n",
    "    plt.legend()\n",
    "    plt.show()\n",
    "\n",
    "param_range = [0.1, 1, 10, 100]\n",
    "\n",
    "train_scores_vc_svm, test_scores_vc_svm = validation_curve(SVC(), X_train_umap, y_train, param_name=\"C\", param_range=param_range, cv=5)\n",
    "train_mean_vc_svm = train_scores_vc_svm.mean(axis=1)\n",
    "test_mean_vc_svm = test_scores_vc_svm.mean(axis=1)\n",
    "plot_validation_curve(param_range, train_mean_vc_svm, test_mean_vc_svm, \"Curva de Validação - SVM\")"
   ]
  },
  {
   "cell_type": "code",
   "execution_count": null,
   "metadata": {
    "id": "yE9fAKmuc3Cv"
   },
   "outputs": [],
   "source": [
    "def plot_confusion_matrix(cm):\n",
    "    plt.figure(figsize=(10, 8))\n",
    "    sns.heatmap(cm, annot=True, fmt=\"d\", cmap=\"Blues\")\n",
    "    plt.title(\"Matriz de Confusão - Heatmap\")\n",
    "    plt.xlabel(\"Predito\")\n",
    "    plt.ylabel(\"Real\")\n",
    "    plt.show()\n",
    "\n",
    "cm_svm = confusion_matrix(y_test, svm_predictions)\n",
    "\n",
    "plot_confusion_matrix(cm_svm)"
   ]
  },
  {
   "cell_type": "markdown",
   "metadata": {
    "id": "B3eh-zdQBJVX"
   },
   "source": [
    "## Salvando os Resultados"
   ]
  },
  {
   "cell_type": "code",
   "execution_count": null,
   "metadata": {
    "id": "y5BCPpajBJVX"
   },
   "outputs": [],
   "source": [
    "# # Salva características para uso posterior\n",
    "# with open(\"features.pkl\", \"wb\") as f:\n",
    "#     pickle.dump((features_batch, labels_batch), f)"
   ]
  },
  {
   "cell_type": "markdown",
   "metadata": {
    "id": "72UJeONRF49p"
   },
   "source": [
    "# MobileNet\n",
    "O MobileNet é uma rede neural leve e eficiente, ideal para classificação de imagens em dispositivos com recursos limitados. Ele usa convoluções separáveis para reduzir custos computacionais e memória, mantendo boa precisão. Pré-treinado no ImageNet, é fácil adaptá-lo via transfer learning para tarefas específicas, como classificação de frutas. Comparado ao SVM, ele aprende características automaticamente e escala melhor para grandes volumes de dados. É uma escolha robusta para aplicações em tempo real e comparações com modelos clássicos."
   ]
  },
  {
   "cell_type": "markdown",
   "metadata": {
    "id": "EZiR3d4oGldp"
   },
   "source": [
    "## Pré-processamento das imagens"
   ]
  },
  {
   "cell_type": "code",
   "execution_count": null,
   "metadata": {
    "colab": {
     "base_uri": "https://localhost:8080/",
     "height": 351
    },
    "executionInfo": {
     "elapsed": 243,
     "status": "error",
     "timestamp": 1740487969169,
     "user": {
      "displayName": "JOAO CORDEIRO",
      "userId": "15883881216218269427"
     },
     "user_tz": 180
    },
    "id": "NvMuYX2SGkkT",
    "outputId": "f300d01b-d103-48e9-ce62-6ec1500239a1"
   },
   "outputs": [
    {
     "ename": "FileNotFoundError",
     "evalue": "[Errno 2] No such file or directory: 'fruits_dataset/fruits-test'",
     "output_type": "error",
     "traceback": [
      "\u001b[0;31m---------------------------------------------------------------------------\u001b[0m",
      "\u001b[0;31mFileNotFoundError\u001b[0m                         Traceback (most recent call last)",
      "\u001b[0;32m<ipython-input-15-c15ba3cf7b62>\u001b[0m in \u001b[0;36m<cell line: 0>\u001b[0;34m()\u001b[0m\n\u001b[1;32m     35\u001b[0m \u001b[0;34m\u001b[0m\u001b[0m\n\u001b[1;32m     36\u001b[0m \u001b[0;31m# Carregar imagens e rótulos\u001b[0m\u001b[0;34m\u001b[0m\u001b[0;34m\u001b[0m\u001b[0m\n\u001b[0;32m---> 37\u001b[0;31m \u001b[0mX\u001b[0m\u001b[0;34m,\u001b[0m \u001b[0my\u001b[0m\u001b[0;34m,\u001b[0m \u001b[0mlabel_encoder\u001b[0m \u001b[0;34m=\u001b[0m \u001b[0mload_images_and_labels\u001b[0m\u001b[0;34m(\u001b[0m\u001b[0mdataset_path\u001b[0m\u001b[0;34m)\u001b[0m\u001b[0;34m\u001b[0m\u001b[0;34m\u001b[0m\u001b[0m\n\u001b[0m\u001b[1;32m     38\u001b[0m \u001b[0;34m\u001b[0m\u001b[0m\n\u001b[1;32m     39\u001b[0m \u001b[0;31m# Dividir dataset\u001b[0m\u001b[0;34m\u001b[0m\u001b[0;34m\u001b[0m\u001b[0m\n",
      "\u001b[0;32m<ipython-input-15-c15ba3cf7b62>\u001b[0m in \u001b[0;36mload_images_and_labels\u001b[0;34m(dataset_path)\u001b[0m\n\u001b[1;32m     14\u001b[0m     \u001b[0mlabel_encoder\u001b[0m \u001b[0;34m=\u001b[0m \u001b[0mLabelEncoder\u001b[0m\u001b[0;34m(\u001b[0m\u001b[0;34m)\u001b[0m\u001b[0;34m\u001b[0m\u001b[0;34m\u001b[0m\u001b[0m\n\u001b[1;32m     15\u001b[0m \u001b[0;34m\u001b[0m\u001b[0m\n\u001b[0;32m---> 16\u001b[0;31m     \u001b[0mfruit_dirs\u001b[0m \u001b[0;34m=\u001b[0m \u001b[0mos\u001b[0m\u001b[0;34m.\u001b[0m\u001b[0mlistdir\u001b[0m\u001b[0;34m(\u001b[0m\u001b[0mdataset_path\u001b[0m\u001b[0;34m)\u001b[0m\u001b[0;34m\u001b[0m\u001b[0;34m\u001b[0m\u001b[0m\n\u001b[0m\u001b[1;32m     17\u001b[0m     \u001b[0mlabel_encoder\u001b[0m\u001b[0;34m.\u001b[0m\u001b[0mfit\u001b[0m\u001b[0;34m(\u001b[0m\u001b[0mfruit_dirs\u001b[0m\u001b[0;34m)\u001b[0m\u001b[0;34m\u001b[0m\u001b[0;34m\u001b[0m\u001b[0m\n\u001b[1;32m     18\u001b[0m \u001b[0;34m\u001b[0m\u001b[0m\n",
      "\u001b[0;31mFileNotFoundError\u001b[0m: [Errno 2] No such file or directory: 'fruits_dataset/fruits-test'"
     ]
    }
   ],
   "source": [
    "dataset_path = \"fruits_dataset/fruits-test\"\n",
    "IMAGE_SIZE = (100, 100)\n",
    "BATCH_SIZE = 500  # Treino em lotes\n",
    "DATA_AUGMENTATION = True\n",
    "\n",
    "# Criar gerador de imagens para Data Augmentation\n",
    "data_gen = ImageDataGenerator(\n",
    "    rotation_range=15, width_shift_range=0.1, height_shift_range=0.1,\n",
    "    shear_range=0.1, zoom_range=0.1, horizontal_flip=True\n",
    ")\n",
    "\n",
    "def load_images_and_labels(dataset_path):\n",
    "    X, y = [], []\n",
    "    label_encoder = LabelEncoder()\n",
    "\n",
    "    fruit_dirs = os.listdir(dataset_path)\n",
    "    label_encoder.fit(fruit_dirs)\n",
    "\n",
    "    for fruit_dir in fruit_dirs:\n",
    "        fruit_path = os.path.join(dataset_path, fruit_dir)\n",
    "        img_files = os.listdir(fruit_path)\n",
    "\n",
    "        for img_file in img_files:\n",
    "            img_path = os.path.join(fruit_path, img_file)\n",
    "            img = cv2.imread(img_path)\n",
    "            if img is None:\n",
    "                print(f\"Erro ao carregar imagem: {img_path}\")\n",
    "                continue\n",
    "            img = cv2.resize(img, IMAGE_SIZE)\n",
    "            img = img.astype(np.float32) / 255.0  # Normalização [0,1]\n",
    "            X.append(img)  # Não achatar a imagem\n",
    "            y.append(fruit_dir)\n",
    "\n",
    "    return np.array(X), label_encoder.transform(y), label_encoder\n",
    "\n",
    "# Carregar imagens e rótulos\n",
    "X, y, label_encoder = load_images_and_labels(dataset_path)\n",
    "\n",
    "# Dividir dataset\n",
    "X_train, X_test, y_train, y_test = train_test_split(X, y, test_size=0.2, random_state=42, stratify=y)\n",
    "\n",
    "# Aplicar Data Augmentation apenas no conjunto de treino\n",
    "if DATA_AUGMENTATION:\n",
    "    X_train_augmented, y_train_augmented = [], []\n",
    "\n",
    "    # Gerar novas imagens até atingir o número desejado\n",
    "    aug_batches = data_gen.flow(X_train, y_train, batch_size=BATCH_SIZE, shuffle=False)\n",
    "\n",
    "    for i in range(len(X_train) // BATCH_SIZE):  # Gera apenas a quantidade correta de amostras\n",
    "        X_batch, y_batch = next(aug_batches)\n",
    "        X_train_augmented.extend(X_batch)\n",
    "        y_train_augmented.extend(y_batch)\n",
    "\n",
    "    X_train_augmented = np.array(X_train_augmented)\n",
    "    y_train_augmented = np.array(y_train_augmented)\n",
    "\n",
    "    # Certificar que o número de amostras bate antes de concatenar\n",
    "    min_samples = min(len(X_train_augmented), len(y_train))\n",
    "    X_train = np.vstack((X_train, X_train_augmented[:min_samples]))\n",
    "    y_train = np.hstack((y_train, y_train_augmented[:min_samples]))\n",
    "\n",
    "# Normalização (não necessário para MobileNet, pois ele já faz isso internamente)\n",
    "# scaler = StandardScaler()\n",
    "# X_train = scaler.fit_transform(X_train)\n",
    "# X_test = scaler.transform(X_test)\n",
    "\n",
    "# Reduzir dimensionalidade com UMAP (não necessário para MobileNet)\n",
    "# umap_reducer = umap.UMAP(n_components=50, random_state=42)\n",
    "# X_train_umap = umap_reducer.fit_transform(X_train, y_train)\n",
    "# X_test_umap = umap_reducer.transform(X_test)"
   ]
  },
  {
   "cell_type": "markdown",
   "metadata": {
    "id": "ByMuHHTVG0dQ"
   },
   "source": [
    "## Classificação usando MobileNet"
   ]
  },
  {
   "cell_type": "code",
   "execution_count": null,
   "metadata": {
    "id": "gOD4U6JaG89A"
   },
   "outputs": [],
   "source": [
    "from tensorflow.keras.applications import MobileNet\n",
    "from tensorflow.keras.layers import Dense, GlobalAveragePooling2D\n",
    "from tensorflow.keras.models import Model\n",
    "from tensorflow.keras.optimizers import Adam\n",
    "from tensorflow.keras.utils import to_categorical\n",
    "from sklearn.metrics import classification_report, accuracy_score\n",
    "from sklearn.model_selection import cross_val_score\n",
    "from sklearn.model_selection import KFold\n",
    "from sklearn.metrics import accuracy_score, classification_report\n",
    "\n",
    "# Carregar o modelo MobileNet pré-treinado (sem a camada fully connected no topo)\n",
    "base_model = MobileNet(weights='imagenet', include_top=False, input_shape=(100, 100, 3))\n",
    "\n",
    "# Adicionar camadas personalizadas no topo do modelo\n",
    "x = base_model.output\n",
    "x = GlobalAveragePooling2D()(x)\n",
    "x = Dense(1024, activation='relu')(x)\n",
    "predictions = Dense(len(label_encoder.classes_), activation='softmax')(x)\n",
    "\n",
    "# Criar o modelo final\n",
    "model = Model(inputs=base_model.input, outputs=predictions)\n",
    "\n",
    "# Congelar as camadas do MobileNet para evitar que sejam treinadas\n",
    "for layer in base_model.layers:\n",
    "    layer.trainable = False\n",
    "\n",
    "# Compilar o modelo\n",
    "model.compile(optimizer=Adam(learning_rate=0.001), loss='sparse_categorical_crossentropy', metrics=['accuracy'])\n",
    "\n",
    "# Treinar o modelo\n",
    "model.fit(X_train, y_train, batch_size=32, epochs=10, validation_data=(X_test, y_test))\n",
    "\n",
    "# Fazer previsões\n",
    "y_pred = model.predict(X_test)\n",
    "y_pred_classes = np.argmax(y_pred, axis=1)\n",
    "\n",
    "# Avaliação do MobileNet\n",
    "print(\"MobileNet Classification Report:\")\n",
    "print(classification_report(y_test, y_pred_classes))\n",
    "print(\"MobileNet Accuracy:\", accuracy_score(y_test, y_pred_classes))\n",
    "\n",
    "# Validação cruzada com MobileNet (não é comum para redes neurais, mas pode ser feito)\n",
    "# Aqui, você pode usar KFold manualmente ou outras técnicas de validação cruzada."
   ]
  },
  {
   "cell_type": "markdown",
   "metadata": {
    "id": "cZ88S-WPHEQh"
   },
   "source": [
    "## Comparação entre SVM e MobileNet"
   ]
  },
  {
   "cell_type": "code",
   "execution_count": null,
   "metadata": {
    "id": "fi7iM7XkHJWo"
   },
   "outputs": [],
   "source": [
    "print(\"Comparação entre SVM e MobileNet:\")\n",
    "print(f\"SVM Accuracy: {accuracy_score(y_test, svm_predictions)}\")\n",
    "print(f\"MobileNet Accuracy: {accuracy_score(y_test, y_pred_classes)}\")"
   ]
  },
  {
   "cell_type": "markdown",
   "metadata": {
    "id": "p7A6VsssINgR"
   },
   "source": [
    "## Acurácia do treino e teste"
   ]
  },
  {
   "cell_type": "code",
   "execution_count": null,
   "metadata": {
    "id": "fmz4NqsCITz7"
   },
   "outputs": [],
   "source": [
    "# Acurácia do treino\n",
    "train_predictions = np.argmax(model.predict(X_train), axis=1)\n",
    "train_accuracy = accuracy_score(y_train, train_predictions)\n",
    "print(\"MobileNet Train Accuracy:\", train_accuracy)\n",
    "\n",
    "# Acurácia do teste\n",
    "test_predictions = np.argmax(model.predict(X_test), axis=1)\n",
    "test_accuracy = accuracy_score(y_test, test_predictions)\n",
    "print(\"MobileNet Test Accuracy:\", test_accuracy)"
   ]
  },
  {
   "cell_type": "markdown",
   "metadata": {
    "id": "W-o3i6GWIWOp"
   },
   "source": [
    "## Matriz de confusão"
   ]
  },
  {
   "cell_type": "code",
   "execution_count": null,
   "metadata": {
    "id": "1zu9_Pc9IbEC"
   },
   "outputs": [],
   "source": [
    "from sklearn.metrics import ConfusionMatrixDisplay\n",
    "import matplotlib.pyplot as plt\n",
    "\n",
    "# Matriz de confusão não normalizada\n",
    "ConfusionMatrixDisplay.from_predictions(y_test, test_predictions)\n",
    "plt.title(\"Matriz de Confusão - MobileNet\")\n",
    "plt.show()\n",
    "\n",
    "# Matriz de confusão normalizada\n",
    "ConfusionMatrixDisplay.from_predictions(y_test, test_predictions, normalize='true')\n",
    "plt.title(\"Matriz de Confusão Normalizada - MobileNet\")\n",
    "plt.show()"
   ]
  },
  {
   "cell_type": "markdown",
   "metadata": {
    "id": "Ye2_6iL9IdTK"
   },
   "source": [
    "## Curva ROC multiclasse"
   ]
  },
  {
   "cell_type": "code",
   "execution_count": null,
   "metadata": {
    "id": "Sp1vjnd8IiAR"
   },
   "outputs": [],
   "source": [
    "from sklearn.metrics import roc_curve, auc\n",
    "from sklearn.preprocessing import label_binarize\n",
    "\n",
    "# Função para plotar a curva ROC para cada classe\n",
    "def plot_multiclass_roc(y_test_bin, y_score, model_name):\n",
    "    plt.figure()\n",
    "    for i in range(n_classes):\n",
    "        fpr, tpr, _ = roc_curve(y_test_bin[:, i], y_score[:, i])\n",
    "        roc_auc = auc(fpr, tpr)\n",
    "        plt.plot(fpr, tpr, lw=2, label=f'Classe {i} (AUC = {roc_auc:.2f})')\n",
    "\n",
    "    plt.plot([0, 1], [0, 1], color='navy', lw=2, linestyle='--')  # Linha de referência\n",
    "    plt.xlabel('False Positive Rate')\n",
    "    plt.ylabel('True Positive Rate')\n",
    "    plt.title(f'Curva ROC - {model_name}')\n",
    "    plt.legend(loc='lower right')\n",
    "    plt.show()\n",
    "\n",
    "# Binarizar rótulos (One-hot encoding)\n",
    "n_classes = len(np.unique(y_test))  # Número de classes únicas\n",
    "y_test_bin = label_binarize(y_test, classes=np.arange(n_classes))  # Torna (901,) -> (901, n_classes)\n",
    "\n",
    "# Probabilidades preditas pelo MobileNet\n",
    "y_score_mobilenet = model.predict(X_test)  # Saída do MobileNet (probabilidades)\n",
    "\n",
    "# Plotar curvas ROC para o MobileNet\n",
    "plot_multiclass_roc(y_test_bin, y_score_mobilenet, \"MobileNet\")"
   ]
  },
  {
   "cell_type": "markdown",
   "metadata": {
    "id": "MUB0Yf1HImVg"
   },
   "source": [
    "## Distribuição de erros"
   ]
  },
  {
   "cell_type": "code",
   "execution_count": null,
   "metadata": {
    "id": "tevyH0GhIpyB"
   },
   "outputs": [],
   "source": [
    "from sklearn.decomposition import PCA\n",
    "\n",
    "# Reduzir dimensionalidade com PCA para visualização\n",
    "pca = PCA(n_components=2)\n",
    "X_test_pca = pca.fit_transform(X_test.reshape(X_test.shape[0], -1))\n",
    "\n",
    "# Encontrar amostras mal classificadas\n",
    "errors_mobilenet = X_test_pca[np.where(y_test != test_predictions)]\n",
    "\n",
    "# Função para plotar erros\n",
    "def plot_error_2d(errors, title):\n",
    "    plt.scatter(errors[:, 0], errors[:, 1], color='red', label='Erros')\n",
    "    plt.title(title)\n",
    "    plt.xlabel(\"Componente Principal 1\")\n",
    "    plt.ylabel(\"Componente Principal 2\")\n",
    "    plt.legend()\n",
    "    plt.show()\n",
    "\n",
    "# Plotar os erros para o MobileNet\n",
    "plot_error_2d(errors_mobilenet, \"Distribuição de Erros - MobileNet\")"
   ]
  },
  {
   "cell_type": "markdown",
   "metadata": {
    "id": "dte8vNbkIsCx"
   },
   "source": [
    "## Curva de Aprendizado e Validação"
   ]
  },
  {
   "cell_type": "code",
   "execution_count": null,
   "metadata": {
    "id": "cyHPh-tyIu8h"
   },
   "outputs": [],
   "source": [
    "from sklearn.model_selection import learning_curve\n",
    "\n",
    "# Função para plotar a curva de aprendizado\n",
    "def plot_learning_curve(train_sizes, train_mean, test_mean, title):\n",
    "    plt.plot(train_sizes, train_mean, label='Treinamento', color='blue')\n",
    "    plt.plot(train_sizes, test_mean, label='Validação', color='orange')\n",
    "    plt.xlabel('Tamanho do Conjunto de Treinamento')\n",
    "    plt.ylabel('Score')\n",
    "    plt.title(title)\n",
    "    plt.legend()\n",
    "    plt.show()\n",
    "\n",
    "# Calcular a curva de aprendizado\n",
    "train_sizes_mobilenet, train_scores_mobilenet, test_scores_mobilenet = learning_curve(\n",
    "    model, X_train, y_train, cv=5, scoring='accuracy', train_sizes=np.linspace(0.1, 1.0, 5)\n",
    ")\n",
    "train_mean_mobilenet = train_scores_mobilenet.mean(axis=1)\n",
    "test_mean_mobilenet = test_scores_mobilenet.mean(axis=1)\n",
    "plot_learning_curve(train_sizes_mobilenet, train_mean_mobilenet, test_mean_mobilenet, \"Curva de Aprendizado - MobileNet\")"
   ]
  },
  {
   "cell_type": "markdown",
   "metadata": {
    "id": "KT95MstpIxvZ"
   },
   "source": [
    "## Matriz de Confusão com Heatmap"
   ]
  },
  {
   "cell_type": "code",
   "execution_count": null,
   "metadata": {
    "id": "vdJ3raryIzhB"
   },
   "outputs": [],
   "source": [
    "import seaborn as sns\n",
    "from sklearn.metrics import confusion_matrix\n",
    "\n",
    "# Função para plotar a matriz de confusão com heatmap\n",
    "def plot_confusion_matrix(cm):\n",
    "    plt.figure(figsize=(10, 8))\n",
    "    sns.heatmap(cm, annot=True, fmt=\"d\", cmap=\"Blues\")\n",
    "    plt.title(\"Matriz de Confusão - Heatmap\")\n",
    "    plt.xlabel(\"Predito\")\n",
    "    plt.ylabel(\"Real\")\n",
    "    plt.show()\n",
    "\n",
    "# Matriz de confusão para o MobileNet\n",
    "cm_mobilenet = confusion_matrix(y_test, test_predictions)\n",
    "plot_confusion_matrix(cm_mobilenet)"
   ]
  },
  {
   "cell_type": "markdown",
   "metadata": {
    "id": "5EsEP1W0I29Y"
   },
   "source": [
    "## Salvar Características"
   ]
  },
  {
   "cell_type": "code",
   "execution_count": null,
   "metadata": {
    "id": "bqYmoDVNI48R"
   },
   "outputs": [],
   "source": [
    "import pickle\n",
    "\n",
    "# Extrair características usando o MobileNet\n",
    "feature_extractor = Model(inputs=model.input, outputs=model.layers[-2].output)  # Extrai a penúltima camada\n",
    "features = feature_extractor.predict(X_train)\n",
    "\n",
    "# Salvar características e rótulos\n",
    "with open(\"features_mobilenet.pkl\", \"wb\") as f:\n",
    "    pickle.dump((features, y_train), f)"
   ]
  }
 ],
 "metadata": {
  "accelerator": "GPU",
  "colab": {
   "gpuType": "T4",
   "provenance": []
  },
  "kernelspec": {
   "display_name": "Python 3",
   "language": "python",
   "name": "python3"
  },
  "language_info": {
   "codemirror_mode": {
    "name": "ipython",
    "version": 3
   },
   "file_extension": ".py",
   "mimetype": "text/x-python",
   "name": "python",
   "nbconvert_exporter": "python",
   "pygments_lexer": "ipython3",
   "version": "3.10.6"
  }
 },
 "nbformat": 4,
 "nbformat_minor": 0
}
